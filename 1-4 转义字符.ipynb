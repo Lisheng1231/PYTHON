{
 "cells": [
  {
   "cell_type": "code",
   "execution_count": 1,
   "metadata": {},
   "outputs": [],
   "source": [
    "# python中需要在字符中使用特殊字符时，用反斜杠（\\）转义字符 \n",
    "\n",
    "# 常见的转义字符\n",
    "\n",
    "#\\(在行尾时) \t续行符\n",
    "#\\\\\t反斜杠符号\n",
    "#\\' \t单引号\n",
    "#\\\" \t双引号\n",
    "#\\a \t响铃\n",
    "#\\b \t退格(Backspace)\n",
    "#\\e \t转义\n",
    "#\\000 \t空\n",
    "#\\n \t换行\n",
    "#\\v \t纵向制表符\n",
    "#\\t \t横向制表符\n",
    "#\\r \t回车\n",
    "#\\f \t换页\n",
    "#\\oyy \t八进制数，yy代表的字符，例如：\\o12代表换行\n",
    "#\\xyy \t十六进制数，yy代表的字符，例如：\\x0a代表换行\n",
    "#\\other \t其它的字符以普通格式输出\n"
   ]
  },
  {
   "cell_type": "code",
   "execution_count": 35,
   "metadata": {},
   "outputs": [
    {
     "name": "stdout",
     "output_type": "stream",
     "text": [
      "\n",
      "\n"
     ]
    }
   ],
   "source": [
    "print('\\n') # \\n 默认换行，所以不输出 "
   ]
  },
  {
   "cell_type": "code",
   "execution_count": 37,
   "metadata": {},
   "outputs": [
    {
     "name": "stdout",
     "output_type": "stream",
     "text": [
      "\\n\n"
     ]
    }
   ],
   "source": [
    "print('\\\\n') # 第一个 \\ 把第二个 \\ 转义为一个 \\ , 然后再输出 n "
   ]
  },
  {
   "cell_type": "code",
   "execution_count": 38,
   "metadata": {},
   "outputs": [
    {
     "name": "stdout",
     "output_type": "stream",
     "text": [
      "\\\n",
      "\n"
     ]
    }
   ],
   "source": [
    "print('\\\\\\n') # 第一个 \\ 把第二个 \\ 转义为一个 \\ ，然后 \\n 默认换行不输出，所以得出 \\ "
   ]
  },
  {
   "cell_type": "code",
   "execution_count": 41,
   "metadata": {},
   "outputs": [
    {
     "name": "stdout",
     "output_type": "stream",
     "text": [
      "\\\\n\n"
     ]
    }
   ],
   "source": [
    "print('\\\\\\\\n')"
   ]
  },
  {
   "cell_type": "code",
   "execution_count": null,
   "metadata": {},
   "outputs": [],
   "source": [
    "# 1-3 说到单双引号的时候，说到一行代码中 中间字符不能含有跟收尾相同类引号，下面是通过加 \\ 来让一行代码可以同时含有同类引号"
   ]
  },
  {
   "cell_type": "code",
   "execution_count": 2,
   "metadata": {},
   "outputs": [
    {
     "ename": "SyntaxError",
     "evalue": "invalid syntax (<ipython-input-2-b9f67406ad8f>, line 1)",
     "output_type": "error",
     "traceback": [
      "\u001b[0;36m  File \u001b[0;32m\"<ipython-input-2-b9f67406ad8f>\"\u001b[0;36m, line \u001b[0;32m1\u001b[0m\n\u001b[0;31m    print('I'm a boy')\u001b[0m\n\u001b[0m             ^\u001b[0m\n\u001b[0;31mSyntaxError\u001b[0m\u001b[0;31m:\u001b[0m invalid syntax\n"
     ]
    }
   ],
   "source": [
    "print('I'm a boy')"
   ]
  },
  {
   "cell_type": "code",
   "execution_count": 16,
   "metadata": {},
   "outputs": [
    {
     "name": "stdout",
     "output_type": "stream",
     "text": [
      "i'm a boy\n"
     ]
    }
   ],
   "source": [
    "print('i\\'m a boy')"
   ]
  },
  {
   "cell_type": "code",
   "execution_count": 17,
   "metadata": {},
   "outputs": [],
   "source": [
    "# print('I\\'m a boy')# 在引号之前加 \\ 字符，来使一行代码中可以实现同类引号共存 (如果一行代码中有多个引号，则需要在每个引号之前都要加 \\ )"
   ]
  }
 ],
 "metadata": {
  "kernelspec": {
   "display_name": "Python 3",
   "language": "python",
   "name": "python3"
  },
  "language_info": {
   "codemirror_mode": {
    "name": "ipython",
    "version": 3
   },
   "file_extension": ".py",
   "mimetype": "text/x-python",
   "name": "python",
   "nbconvert_exporter": "python",
   "pygments_lexer": "ipython3",
   "version": "3.7.4"
  }
 },
 "nbformat": 4,
 "nbformat_minor": 2
}
